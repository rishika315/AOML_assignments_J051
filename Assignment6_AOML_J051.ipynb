{
  "nbformat": 4,
  "nbformat_minor": 0,
  "metadata": {
    "colab": {
      "provenance": [],
      "gpuType": "T4"
    },
    "kernelspec": {
      "name": "python3",
      "display_name": "Python 3"
    },
    "language_info": {
      "name": "python"
    },
    "accelerator": "GPU"
  },
  "cells": [
    {
      "cell_type": "code",
      "source": [
        "import numpy as np\n",
        "import pandas as pd\n",
        "import matplotlib.pyplot as plt\n",
        "from sklearn.model_selection import train_test_split, RandomizedSearchCV\n",
        "from sklearn.svm import SVC\n",
        "from sklearn.metrics import accuracy_score\n",
        "from tensorflow.keras.datasets import fashion_mnist\n",
        "from sklearn.preprocessing import StandardScaler\n",
        "from sklearn.decomposition import PCA\n",
        "\n",
        "# 1️⃣ Load Fashion MNIST Dataset\n",
        "(x_train, y_train), (x_test, y_test) = fashion_mnist.load_data()"
      ],
      "metadata": {
        "colab": {
          "base_uri": "https://localhost:8080/"
        },
        "id": "hIW1lbS0DovX",
        "outputId": "eeefa7b6-3bdb-497d-b9d4-3da4e60fb309"
      },
      "execution_count": 1,
      "outputs": [
        {
          "output_type": "stream",
          "name": "stdout",
          "text": [
            "Downloading data from https://storage.googleapis.com/tensorflow/tf-keras-datasets/train-labels-idx1-ubyte.gz\n",
            "\u001b[1m29515/29515\u001b[0m \u001b[32m━━━━━━━━━━━━━━━━━━━━\u001b[0m\u001b[37m\u001b[0m \u001b[1m0s\u001b[0m 0us/step\n",
            "Downloading data from https://storage.googleapis.com/tensorflow/tf-keras-datasets/train-images-idx3-ubyte.gz\n",
            "\u001b[1m26421880/26421880\u001b[0m \u001b[32m━━━━━━━━━━━━━━━━━━━━\u001b[0m\u001b[37m\u001b[0m \u001b[1m2s\u001b[0m 0us/step\n",
            "Downloading data from https://storage.googleapis.com/tensorflow/tf-keras-datasets/t10k-labels-idx1-ubyte.gz\n",
            "\u001b[1m5148/5148\u001b[0m \u001b[32m━━━━━━━━━━━━━━━━━━━━\u001b[0m\u001b[37m\u001b[0m \u001b[1m0s\u001b[0m 0us/step\n",
            "Downloading data from https://storage.googleapis.com/tensorflow/tf-keras-datasets/t10k-images-idx3-ubyte.gz\n",
            "\u001b[1m4422102/4422102\u001b[0m \u001b[32m━━━━━━━━━━━━━━━━━━━━\u001b[0m\u001b[37m\u001b[0m \u001b[1m1s\u001b[0m 0us/step\n"
          ]
        }
      ]
    },
    {
      "cell_type": "code",
      "source": [
        "# Flatten images (28x28 → 784)\n",
        "x_train = x_train.reshape(x_train.shape[0], -1)\n",
        "x_test = x_test.reshape(x_test.shape[0], -1)\n",
        "\n",
        "# Standardize the data\n",
        "scaler = StandardScaler()\n",
        "x_train = scaler.fit_transform(x_train)\n",
        "x_test = scaler.transform(x_test)"
      ],
      "metadata": {
        "id": "NNi6RrYVDo3_"
      },
      "execution_count": 2,
      "outputs": []
    },
    {
      "cell_type": "code",
      "source": [
        "# 2️⃣ Reduce Dataset Size to 10,000 samples\n",
        "subset_size = 10000\n",
        "x_train_small, _, y_train_small, _ = train_test_split(x_train, y_train, train_size=subset_size, stratify=y_train, random_state=42)"
      ],
      "metadata": {
        "id": "lQGvY7vYDzM5"
      },
      "execution_count": 3,
      "outputs": []
    },
    {
      "cell_type": "code",
      "source": [
        "# 3️⃣ Apply PCA (Reduce from 784 → 100 features)\n",
        "pca = PCA(n_components=100)\n",
        "x_train_pca = pca.fit_transform(x_train_small)\n",
        "x_test_pca = pca.transform(x_test)"
      ],
      "metadata": {
        "id": "1vtMoR-tD1hS"
      },
      "execution_count": 4,
      "outputs": []
    },
    {
      "cell_type": "code",
      "source": [
        "# ------------------ Train SVM Models ------------------\n",
        "\n",
        "# 4️⃣ SVM with Linear Kernel (Find Best C)\n",
        "param_grid_linear = {'C': [0.1, 1, 10, 100]}\n",
        "linear_svm = RandomizedSearchCV(SVC(kernel='linear'), param_distributions=param_grid_linear, n_iter=3, cv=2, scoring='accuracy', n_jobs=-1)\n",
        "linear_svm.fit(x_train_pca, y_train_small)\n",
        "\n",
        "print(f\"Best C (Linear SVM): {linear_svm.best_params_['C']}\")\n",
        "y_pred = linear_svm.best_estimator_.predict(x_test_pca)\n",
        "print(f\"Test Accuracy (Linear SVM): {accuracy_score(y_test, y_pred):.4f}\")"
      ],
      "metadata": {
        "colab": {
          "base_uri": "https://localhost:8080/"
        },
        "id": "2P18ewerD31x",
        "outputId": "20fd1900-8198-4df6-ec4b-411d6c8b23f2"
      },
      "execution_count": 5,
      "outputs": [
        {
          "output_type": "stream",
          "name": "stdout",
          "text": [
            "Best C (Linear SVM): 0.1\n",
            "Test Accuracy (Linear SVM): 0.8346\n"
          ]
        }
      ]
    },
    {
      "cell_type": "code",
      "source": [
        "# 5️⃣ SVM with Polynomial Kernel (Find Best C & Degree)\n",
        "param_grid_poly = {'C': [0.1, 1, 10, 100], 'degree': [2, 3, 4]}\n",
        "poly_svm = RandomizedSearchCV(SVC(kernel='poly'), param_distributions=param_grid_poly, n_iter=5, cv=2, scoring='accuracy', n_jobs=-1)\n",
        "poly_svm.fit(x_train_pca, y_train_small)\n",
        "\n",
        "print(f\"Best Params (Polynomial SVM): {poly_svm.best_params_}\")\n",
        "y_pred = poly_svm.best_estimator_.predict(x_test_pca)\n",
        "print(f\"Test Accuracy (Polynomial SVM): {accuracy_score(y_test, y_pred):.4f}\")"
      ],
      "metadata": {
        "colab": {
          "base_uri": "https://localhost:8080/"
        },
        "id": "Cc2GYyBUD6W0",
        "outputId": "e7d6ff84-f47b-4d85-b9a1-d58226797b23"
      },
      "execution_count": 6,
      "outputs": [
        {
          "output_type": "stream",
          "name": "stdout",
          "text": [
            "Best Params (Polynomial SVM): {'degree': 3, 'C': 10}\n",
            "Test Accuracy (Polynomial SVM): 0.8544\n"
          ]
        }
      ]
    },
    {
      "cell_type": "code",
      "source": [
        "# 6️⃣ SVM with RBF Kernel (Find Best C & Gamma)\n",
        "param_grid_rbf = {'C': [0.1, 1, 10, 100], 'gamma': [0.001, 0.01, 0.1, 1]}\n",
        "rbf_svm = RandomizedSearchCV(SVC(kernel='rbf'), param_distributions=param_grid_rbf, n_iter=5, cv=2, scoring='accuracy', n_jobs=-1)\n",
        "rbf_svm.fit(x_train_pca, y_train_small)\n",
        "\n",
        "print(f\"Best Params (RBF SVM): {rbf_svm.best_params_}\")\n",
        "y_pred = rbf_svm.best_estimator_.predict(x_test_pca)\n",
        "print(f\"Test Accuracy (RBF SVM): {accuracy_score(y_test, y_pred):.4f}\")"
      ],
      "metadata": {
        "colab": {
          "base_uri": "https://localhost:8080/"
        },
        "id": "h_rGG0eGD8Vc",
        "outputId": "b7099e87-846a-48f1-9285-264361351fac"
      },
      "execution_count": 7,
      "outputs": [
        {
          "output_type": "stream",
          "name": "stdout",
          "text": [
            "Best Params (RBF SVM): {'gamma': 0.01, 'C': 1}\n",
            "Test Accuracy (RBF SVM): 0.8073\n"
          ]
        }
      ]
    }
  ]
}